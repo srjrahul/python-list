{
 "cells": [
  {
   "cell_type": "markdown",
   "id": "08707b2d",
   "metadata": {},
   "source": [
    "<div class=\"alert alert-info\">\n",
    "    <h1 style='color:blue;' align='center' >Python List</h1>\n",
    "  \n",
    "Python Lists are just like dynamically sized arrays. In simple language, a list is a collection of things, enclosed in [ ] and separated by commas. \n",
    "\n",
    " ### Creating a List in Python\n",
    " Lists in Python can be created by just placing the sequence inside the square brackets[ ]. Unlike Sets, a list doesn’t need a built-in function for its creation of a list. \n",
    "</div>"
   ]
  },
  {
   "cell_type": "code",
   "execution_count": 1,
   "id": "49629a82",
   "metadata": {},
   "outputs": [
    {
     "data": {
      "text/plain": [
       "list"
      ]
     },
     "execution_count": 1,
     "metadata": {},
     "output_type": "execute_result"
    }
   ],
   "source": [
    "# empty list create\n",
    "emp = []\n",
    "type(emp)"
   ]
  },
  {
   "cell_type": "code",
   "execution_count": 2,
   "id": "7d9e54a0",
   "metadata": {},
   "outputs": [
    {
     "name": "stdout",
     "output_type": "stream",
     "text": [
      "[1, 2, 3]\n",
      "['a', 'b', 'c']\n",
      "<class 'list'>\n",
      "<class 'list'>\n"
     ]
    }
   ],
   "source": [
    "lst = [1,2,3]\n",
    "lst1 = ['a','b','c']\n",
    "print(lst)\n",
    "print(lst1)\n",
    "print(type(lst))\n",
    "print(type(lst1))"
   ]
  },
  {
   "cell_type": "code",
   "execution_count": 3,
   "id": "9e78de3a",
   "metadata": {},
   "outputs": [
    {
     "data": {
      "text/plain": [
       "list"
      ]
     },
     "execution_count": 3,
     "metadata": {},
     "output_type": "execute_result"
    }
   ],
   "source": [
    "type(lst1)"
   ]
  },
  {
   "cell_type": "code",
   "execution_count": 4,
   "id": "2916815b",
   "metadata": {},
   "outputs": [
    {
     "name": "stdout",
     "output_type": "stream",
     "text": [
      "[1, 2, 'apple', True, ['a', 7, 4, 6, 'b'], ('x', 9)]\n",
      "data type of lst is: <class 'list'>\n"
     ]
    }
   ],
   "source": [
    "# creating list\n",
    "lst= [1,2,\"apple\",True,[\"a\",7,4,6,\"b\"],(\"x\",9)]\n",
    "print(lst)\n",
    "print(\"data type of lst is:\",type(lst))"
   ]
  },
  {
   "cell_type": "code",
   "execution_count": 5,
   "id": "e6bafe8a",
   "metadata": {},
   "outputs": [
    {
     "name": "stdout",
     "output_type": "stream",
     "text": [
      "there are 5 vowels in alphabates  ['a', 'e', 'i', 'o', 'u']\n"
     ]
    }
   ],
   "source": [
    "vowels=['a','e','i','o','u']\n",
    "print(\"there are 5 vowels in alphabates \",vowels)"
   ]
  },
  {
   "cell_type": "code",
   "execution_count": 6,
   "id": "797afc3e",
   "metadata": {},
   "outputs": [
    {
     "data": {
      "text/plain": [
       "[1, 2, 4, 4, 3, 3, 3, 6, 5]"
      ]
     },
     "execution_count": 6,
     "metadata": {},
     "output_type": "execute_result"
    }
   ],
   "source": [
    "# # (Having duplicate values)\n",
    "lst1 = [1, 2, 4, 4, 3, 3, 3, 6, 5]\n",
    "lst1"
   ]
  },
  {
   "cell_type": "markdown",
   "id": "3446917a",
   "metadata": {},
   "source": [
    "<div class=\"alert alert-info\">\n",
    "\n",
    "### Getting the size of Python list\n",
    "Python len() is used to get the length of the list.<br>\n",
    "**syntax: len(list)**\n",
    "</div>"
   ]
  },
  {
   "cell_type": "code",
   "execution_count": 7,
   "id": "4605e154",
   "metadata": {},
   "outputs": [
    {
     "name": "stdout",
     "output_type": "stream",
     "text": [
      "0\n",
      "3\n"
     ]
    }
   ],
   "source": [
    "# Creating a List\n",
    "List1 = []\n",
    "print(len(List1))\n",
    " \n",
    "# Creating a List of numbers\n",
    "List2 = [10, 20, 14]\n",
    "print(len(List2))"
   ]
  },
  {
   "cell_type": "code",
   "execution_count": 8,
   "id": "7bfb1cdf",
   "metadata": {},
   "outputs": [],
   "source": [
    "lst1 = [1, 2, 4, 4, 3, 3, 3, 6, 5]"
   ]
  },
  {
   "cell_type": "code",
   "execution_count": 9,
   "id": "8fcf3a0c",
   "metadata": {},
   "outputs": [
    {
     "data": {
      "text/plain": [
       "9"
      ]
     },
     "execution_count": 9,
     "metadata": {},
     "output_type": "execute_result"
    }
   ],
   "source": [
    "len(lst1)"
   ]
  },
  {
   "cell_type": "markdown",
   "id": "8ba2195f",
   "metadata": {},
   "source": [
    "<div class=\"alert alert-info\">\n",
    "\n",
    "### Accessing elements from the List\n",
    "In order to access the list items refer to the index number. Use the index operator [ ] to access an item in a list. The index must be an integer. Nested lists are accessed using nested indexing.\n",
    "    \n",
    "</div>"
   ]
  },
  {
   "cell_type": "code",
   "execution_count": 10,
   "id": "d8f4edc9",
   "metadata": {},
   "outputs": [],
   "source": [
    "# access the 1st and 5th element of lst\n",
    "lst= [1,2,\"apple\",True,[\"a\",7,4,6,\"b\"],(\"x\",9)]"
   ]
  },
  {
   "cell_type": "code",
   "execution_count": 11,
   "id": "e07be4e0",
   "metadata": {},
   "outputs": [
    {
     "name": "stdout",
     "output_type": "stream",
     "text": [
      "1\n",
      "['a', 7, 4, 6, 'b']\n"
     ]
    }
   ],
   "source": [
    "print(lst[0])\n",
    "print(lst[4])"
   ]
  },
  {
   "cell_type": "code",
   "execution_count": 12,
   "id": "fde65dbb",
   "metadata": {},
   "outputs": [],
   "source": [
    "# (By Nesting a list inside a List)\n",
    "lst= [1,2,\"apple\",True,[\"a\",7,4,[4,5,9],\"b\"],(\"x\",9)]"
   ]
  },
  {
   "cell_type": "code",
   "execution_count": 13,
   "id": "667f495e",
   "metadata": {},
   "outputs": [
    {
     "data": {
      "text/plain": [
       "5"
      ]
     },
     "execution_count": 13,
     "metadata": {},
     "output_type": "execute_result"
    }
   ],
   "source": [
    "lst[4][3][1]"
   ]
  },
  {
   "cell_type": "markdown",
   "id": "4e32c869",
   "metadata": {},
   "source": [
    "<div class=\"alert alert-info\">\n",
    "\n",
    "### Negative indexing\n",
    "In Python, negative sequence indexes represent positions from the end of the array. Instead of having to compute the offset as in List[len(List)-3], it is enough to just write List[-3]. Negative indexing means beginning from the end, -1 refers to the last item, -2 refers to the second-last item, etc.\n",
    "</div>"
   ]
  },
  {
   "cell_type": "code",
   "execution_count": 14,
   "id": "9ef13af1",
   "metadata": {},
   "outputs": [
    {
     "name": "stdout",
     "output_type": "stream",
     "text": [
      "Accessing element using negative indexing\n",
      "Gamma\n",
      "For\n"
     ]
    }
   ],
   "source": [
    "lst2 = [1, 2, 'alpha', 4, 'For', 6, 'Gamma']\n",
    " \n",
    "# accessing an element using\n",
    "# negative indexing\n",
    "print(\"Accessing element using negative indexing\")\n",
    " \n",
    "# print the last element of list\n",
    "print(lst2[-1])\n",
    " \n",
    "# print the third last element of list\n",
    "print(lst2[-3])"
   ]
  },
  {
   "cell_type": "code",
   "execution_count": 15,
   "id": "b1a1dbeb",
   "metadata": {},
   "outputs": [],
   "source": [
    "lst2 = [1, 2, 'alpha', 4, 'For', 6, 'Gamma']"
   ]
  },
  {
   "cell_type": "code",
   "execution_count": 16,
   "id": "0959db65",
   "metadata": {},
   "outputs": [
    {
     "data": {
      "text/plain": [
       "'Gamma'"
      ]
     },
     "execution_count": 16,
     "metadata": {},
     "output_type": "execute_result"
    }
   ],
   "source": [
    "lst2[6]"
   ]
  },
  {
   "cell_type": "code",
   "execution_count": 18,
   "id": "dd076e27",
   "metadata": {},
   "outputs": [
    {
     "data": {
      "text/plain": [
       "'Gamma'"
      ]
     },
     "execution_count": 18,
     "metadata": {},
     "output_type": "execute_result"
    }
   ],
   "source": [
    "lst2[-1]"
   ]
  },
  {
   "attachments": {
    "image.png": {
     "image/png": "[encoded data removed]"
    }
   },
   "cell_type": "markdown",
   "id": "7f46be5f",
   "metadata": {},
   "source": [
    "<div class=\"alert alert-info\">\n",
    "\n",
    "### Slicing of a List\n",
    "We can get substrings and sublists using a slice. In Python List, there are multiple ways to print the whole list with all the elements, but to print a specific range of elements from the list, we use the Slice operation. <br>\n",
    "    \n",
    "**`list[start:end:step]`**\n",
    "\n",
    "![image.png](attachment:image.png)\n",
    "\n",
    "</div>"
   ]
  },
  {
   "cell_type": "code",
   "execution_count": 19,
   "id": "0e57c242",
   "metadata": {},
   "outputs": [
    {
     "data": {
      "text/plain": [
       "['alpha', 77]"
      ]
     },
     "execution_count": 19,
     "metadata": {},
     "output_type": "execute_result"
    }
   ],
   "source": [
    "lst2 = [12, 24, 'alpha', 77, 'For', 6, 'Gamma']\n",
    "lst2[2:4]"
   ]
  },
  {
   "cell_type": "code",
   "execution_count": 20,
   "id": "6ba06625",
   "metadata": {},
   "outputs": [
    {
     "data": {
      "text/plain": [
       "[True, ['a', 7, 4, 6, 'b'], ('x', 9)]"
      ]
     },
     "execution_count": 20,
     "metadata": {},
     "output_type": "execute_result"
    }
   ],
   "source": [
    "lst= [1,2,\"apple\",True,[\"a\",7,4,6,\"b\"],(\"x\",9),56,78,99]\n",
    "lst[3:6]"
   ]
  },
  {
   "cell_type": "code",
   "execution_count": null,
   "id": "b4fcf7d9",
   "metadata": {},
   "outputs": [],
   "source": []
  },
  {
   "cell_type": "code",
   "execution_count": 21,
   "id": "39447863",
   "metadata": {},
   "outputs": [],
   "source": [
    "eg = ['G', 'E', 'E', 'K', 'S', 'F','O', 'R', 'G', 'E', 'E', 'K', 'S']"
   ]
  },
  {
   "cell_type": "code",
   "execution_count": 22,
   "id": "6b898e9e",
   "metadata": {},
   "outputs": [
    {
     "data": {
      "text/plain": [
       "['K', 'S', 'F', 'O', 'R']"
      ]
     },
     "execution_count": 22,
     "metadata": {},
     "output_type": "execute_result"
    }
   ],
   "source": [
    "# using Slice operation\n",
    "eg[3:8]"
   ]
  },
  {
   "cell_type": "code",
   "execution_count": 23,
   "id": "e54171af",
   "metadata": {},
   "outputs": [
    {
     "data": {
      "text/plain": [
       "['F', 'O', 'R', 'G', 'E', 'E', 'K', 'S']"
      ]
     },
     "execution_count": 23,
     "metadata": {},
     "output_type": "execute_result"
    }
   ],
   "source": [
    "# pre-defined point to end\n",
    "eg[5:]"
   ]
  },
  {
   "cell_type": "code",
   "execution_count": 24,
   "id": "6327f51f",
   "metadata": {},
   "outputs": [
    {
     "data": {
      "text/plain": [
       "['G', 'E', 'E', 'K', 'S', 'F', 'O', 'R', 'G', 'E', 'E', 'K', 'S']"
      ]
     },
     "execution_count": 24,
     "metadata": {},
     "output_type": "execute_result"
    }
   ],
   "source": [
    "# beginning till end\n",
    "eg[:]"
   ]
  },
  {
   "cell_type": "code",
   "execution_count": 25,
   "id": "7e1c2754",
   "metadata": {},
   "outputs": [
    {
     "data": {
      "text/plain": [
       "['G', 'E', 'E', 'K', 'S', 'F', 'O']"
      ]
     },
     "execution_count": 25,
     "metadata": {},
     "output_type": "execute_result"
    }
   ],
   "source": [
    "# to a pre-defined point using Slice\n",
    "eg[:-6]"
   ]
  },
  {
   "cell_type": "code",
   "execution_count": 26,
   "id": "52544eba",
   "metadata": {},
   "outputs": [],
   "source": [
    "eg = ['G', 'E', 'E', 'K', 'S', 'F','O', 'R', 'G', 'E', 'E', 'K', 'S']"
   ]
  },
  {
   "cell_type": "code",
   "execution_count": 27,
   "id": "28490940",
   "metadata": {},
   "outputs": [
    {
     "data": {
      "text/plain": [
       "['R', 'G', 'E', 'E', 'K']"
      ]
     },
     "execution_count": 27,
     "metadata": {},
     "output_type": "execute_result"
    }
   ],
   "source": [
    "# using negative index List slicing\n",
    "eg[-6:-1]"
   ]
  },
  {
   "cell_type": "code",
   "execution_count": 28,
   "id": "68e7820c",
   "metadata": {},
   "outputs": [
    {
     "data": {
      "text/plain": [
       "['S', 'K', 'E', 'E', 'G', 'R', 'O', 'F', 'S', 'K', 'E', 'E', 'G']"
      ]
     },
     "execution_count": 28,
     "metadata": {},
     "output_type": "execute_result"
    }
   ],
   "source": [
    "# Printing elements in reverse\n",
    "# using Slice operation\n",
    "eg[::-1]"
   ]
  },
  {
   "cell_type": "code",
   "execution_count": 29,
   "id": "5f27738d",
   "metadata": {},
   "outputs": [],
   "source": [
    "lst=[1,2,3,4,5,6,7,8,9]"
   ]
  },
  {
   "cell_type": "code",
   "execution_count": 30,
   "id": "930e85db",
   "metadata": {},
   "outputs": [
    {
     "data": {
      "text/plain": [
       "[1, 4, 7]"
      ]
     },
     "execution_count": 30,
     "metadata": {},
     "output_type": "execute_result"
    }
   ],
   "source": [
    "# select odd no.\n",
    "lst[::3]"
   ]
  },
  {
   "cell_type": "code",
   "execution_count": 31,
   "id": "9fa1d62d",
   "metadata": {},
   "outputs": [
    {
     "data": {
      "text/plain": [
       "[2, 4, 6, 8]"
      ]
     },
     "execution_count": 31,
     "metadata": {},
     "output_type": "execute_result"
    }
   ],
   "source": [
    "# select even no.\n",
    "lst[1::2]"
   ]
  },
  {
   "cell_type": "code",
   "execution_count": 32,
   "id": "7fef519a",
   "metadata": {},
   "outputs": [
    {
     "data": {
      "text/plain": [
       "[9, 7, 5, 3, 1]"
      ]
     },
     "execution_count": 32,
     "metadata": {},
     "output_type": "execute_result"
    }
   ],
   "source": [
    "lst[::-2]"
   ]
  },
  {
   "cell_type": "code",
   "execution_count": 33,
   "id": "a785dc70",
   "metadata": {},
   "outputs": [
    {
     "data": {
      "text/plain": [
       "[9, 8, 7, 6, 5, 4, 3, 2, 1]"
      ]
     },
     "execution_count": 33,
     "metadata": {},
     "output_type": "execute_result"
    }
   ],
   "source": [
    "lst[::-1]"
   ]
  },
  {
   "cell_type": "markdown",
   "id": "97b965b0",
   "metadata": {},
   "source": [
    "<div class=\"alert alert-info\">\n",
    "    \n",
    "## List Method\n",
    "\n",
    "    \n",
    "|Method |\tDescription|\n",
    "|-------|--------------|\n",
    "**append()**|\tAdds an element at the end of the list\n",
    "**clear()**\t|Removes all the elements from the list\n",
    "**copy()**\t|Returns a copy of the list\n",
    "**count()**\t|Returns the number of elements with the specified value\n",
    "**extend()** |\tAdd the elements of a list (or any iterable), to the end of the current list\n",
    "**index()**\t|Returns the index of the first element with the specified value\n",
    "**insert()** |\tAdds an element at the specified position\n",
    "**pop()**\t|Removes the element at the specified position\n",
    "**remove()** |\tRemoves the first item with the specified value\n",
    "**reverse()**  |\tReverses the order of the list\n",
    "**sort()**\t|Sorts the list\n",
    "    \n",
    "</div>"
   ]
  },
  {
   "cell_type": "markdown",
   "id": "d6acaa49",
   "metadata": {},
   "source": [
    "\n",
    "<div class=\"alert alert-info\">\n",
    "    <h2 style='color:blue;' align='Left' >append() </h2>\n",
    "    \n",
    "The append() method appends an element to the end of the list.<br>\n",
    "    \n",
    "**Syntax**  \n",
    "`list.append(element)`\n",
    "    </div>"
   ]
  },
  {
   "cell_type": "code",
   "execution_count": 34,
   "id": "0b9aaa2a",
   "metadata": {},
   "outputs": [
    {
     "data": {
      "text/plain": [
       "['apple', 'banana', 'cherry', 'orange']"
      ]
     },
     "execution_count": 34,
     "metadata": {},
     "output_type": "execute_result"
    }
   ],
   "source": [
    "fruits = ['apple', 'banana', 'cherry']\n",
    "fruits.append(\"orange\")\n",
    "fruits"
   ]
  },
  {
   "cell_type": "code",
   "execution_count": 35,
   "id": "c90a68d5",
   "metadata": {},
   "outputs": [
    {
     "data": {
      "text/plain": [
       "['apple', 'banana', 'cherry', ['Ford', 'BMW', 'Volvo']]"
      ]
     },
     "execution_count": 35,
     "metadata": {},
     "output_type": "execute_result"
    }
   ],
   "source": [
    "a = [\"apple\", \"banana\", \"cherry\"]\n",
    "b = [\"Ford\", \"BMW\", \"Volvo\"]\n",
    "a.append(b)\n",
    "a"
   ]
  },
  {
   "cell_type": "markdown",
   "id": "faf6a18d",
   "metadata": {},
   "source": [
    "<div class=\"alert alert-info\">\n",
    "    <h2 style='color:blue;' align='Left' >clear() </h2>\n",
    "    \n",
    "The clear() method removes all the elements from a list..<br>\n",
    "    \n",
    "**Syntax**  \n",
    "`list.clear()`\n",
    "    </div>"
   ]
  },
  {
   "cell_type": "code",
   "execution_count": 36,
   "id": "576a8146",
   "metadata": {},
   "outputs": [
    {
     "data": {
      "text/plain": [
       "[]"
      ]
     },
     "execution_count": 36,
     "metadata": {},
     "output_type": "execute_result"
    }
   ],
   "source": [
    "fruits = ['apple', 'banana', 'cherry', 'orange']\n",
    "fruits.clear()\n",
    "fruits"
   ]
  },
  {
   "cell_type": "markdown",
   "id": "f883afca",
   "metadata": {},
   "source": [
    "<div class=\"alert alert-info\">\n",
    "    <h2 style='color:blue;' align='Left' >copy() </h2>\n",
    "    \n",
    "The copy() method returns a copy of the specified list.<br>\n",
    "    \n",
    "**Syntax**  \n",
    "`list.copy()`\n",
    "    </div>"
   ]
  },
  {
   "cell_type": "code",
   "execution_count": 37,
   "id": "a9e2212d",
   "metadata": {},
   "outputs": [
    {
     "data": {
      "text/plain": [
       "['apple', 'banana', 'cherry', 'orange']"
      ]
     },
     "execution_count": 37,
     "metadata": {},
     "output_type": "execute_result"
    }
   ],
   "source": [
    "fruits = ['apple', 'banana', 'cherry', 'orange']\n",
    "x = fruits.copy()\n",
    "x"
   ]
  },
  {
   "cell_type": "code",
   "execution_count": 38,
   "id": "abae43bc",
   "metadata": {},
   "outputs": [
    {
     "data": {
      "text/plain": [
       "['apple', 'banana', 'cherry', 'orange']"
      ]
     },
     "execution_count": 38,
     "metadata": {},
     "output_type": "execute_result"
    }
   ],
   "source": [
    "fruits = ['apple', 'banana', 'cherry', 'orange']\n",
    "y = fruits\n",
    "y"
   ]
  },
  {
   "cell_type": "markdown",
   "id": "57e32a5a",
   "metadata": {},
   "source": [
    "<div class=\"alert alert-info\">\n",
    "    <h2 style='color:blue;' align='Left' >count() </h2>\n",
    "    \n",
    "The count() method returns the count of the occurrences of a given element in a list.<br>\n",
    "    \n",
    "**Syntax**  \n",
    "`list.count(element)`\n",
    "    </div>"
   ]
  },
  {
   "cell_type": "code",
   "execution_count": 39,
   "id": "7876a537",
   "metadata": {},
   "outputs": [
    {
     "data": {
      "text/plain": [
       "4"
      ]
     },
     "execution_count": 39,
     "metadata": {},
     "output_type": "execute_result"
    }
   ],
   "source": [
    "ex = ['a', 'a', 'a', 'b', 'b', 'a', 'c', 'b'] \n",
    "# count of 'b' in ex list\n",
    "ex.count('a')"
   ]
  },
  {
   "cell_type": "markdown",
   "id": "f2dd71fe",
   "metadata": {},
   "source": [
    "<div class=\"alert alert-info\">\n",
    "    <h2 style='color:blue;' align='Left' >extend() </h2>\n",
    "    \n",
    "The Python’s List extend() Iterates over its argument and adding each element to the list and extending the list. The length of the list increases by a number of elements in its argument.<br>\n",
    "    \n",
    "**Syntax**  \n",
    "`list.extend(iterable)`<br>\n",
    "**iterable:** Any iterable (list, set, tuple,string etc.)\n",
    "    </div>"
   ]
  },
  {
   "cell_type": "code",
   "execution_count": 40,
   "id": "9a662725",
   "metadata": {},
   "outputs": [
    {
     "data": {
      "text/plain": [
       "['python', 'demo', 6, 0, 4, 1]"
      ]
     },
     "execution_count": 40,
     "metadata": {},
     "output_type": "execute_result"
    }
   ],
   "source": [
    "my_list = ['python', 'demo']\n",
    "another_list = [6, 0, 4, 1]\n",
    "my_list.extend(another_list)\n",
    "my_list"
   ]
  },
  {
   "cell_type": "code",
   "execution_count": 41,
   "id": "215a0942",
   "metadata": {},
   "outputs": [
    {
     "data": {
      "text/plain": [
       "['python', 'demo', 0, 4, 1]"
      ]
     },
     "execution_count": 41,
     "metadata": {},
     "output_type": "execute_result"
    }
   ],
   "source": [
    "my_list = ['python', 'demo']\n",
    "another_list = (0, 4, 1)\n",
    "my_list.extend(another_list)\n",
    "my_list"
   ]
  },
  {
   "cell_type": "code",
   "execution_count": 42,
   "id": "bcdb5fd1",
   "metadata": {},
   "outputs": [
    {
     "data": {
      "text/plain": [
       "tuple"
      ]
     },
     "execution_count": 42,
     "metadata": {},
     "output_type": "execute_result"
    }
   ],
   "source": [
    "type(another_list)"
   ]
  },
  {
   "cell_type": "code",
   "execution_count": 43,
   "id": "9c0adf6f",
   "metadata": {},
   "outputs": [
    {
     "data": {
      "text/plain": [
       "['apple', 'banana', 'cherry', 'o', 'r', 'a', 'n', 'g', 'e']"
      ]
     },
     "execution_count": 43,
     "metadata": {},
     "output_type": "execute_result"
    }
   ],
   "source": [
    "fruits = ['apple', 'banana', 'cherry']\n",
    "a= 'orange'\n",
    "fruits.extend(a)\n",
    "fruits"
   ]
  },
  {
   "cell_type": "markdown",
   "id": "d60f963e",
   "metadata": {},
   "source": [
    "<div class=\"alert alert-info\">\n",
    "    <h2 style='color:blue;' align='Left' >Extend vs Append Python List Methods </h2>\n",
    "    \n",
    "- In Python, there are two ways to add elements to a list: extend() and append().<br>\n",
    "- However, these two methods serve quite different functions.<br> \n",
    "- In **append()** we add a single element to the end of a list. \n",
    "- In **extend()** we add multiple elements to a list.<br> \n",
    "- The supplied element is added as a single item at the end of the initial list by the **append()** method.<br> \n",
    "- When an Iterable is supplied as a parameter, the **extend()** method adds each element from the Iterable to the list’s end individually. It alters the initial list."
   ]
  },
  {
   "cell_type": "code",
   "execution_count": 44,
   "id": "17215dc3",
   "metadata": {},
   "outputs": [
    {
     "data": {
      "text/plain": [
       "['python', 'demo', 6, 0, 4, 1]"
      ]
     },
     "execution_count": 44,
     "metadata": {},
     "output_type": "execute_result"
    }
   ],
   "source": [
    "# extend\n",
    "my_list = ['python', 'demo']\n",
    "another_list = [6, 0, 4, 1]\n",
    "my_list.extend(another_list)\n",
    "my_list"
   ]
  },
  {
   "cell_type": "code",
   "execution_count": 45,
   "id": "386671e2",
   "metadata": {},
   "outputs": [
    {
     "data": {
      "text/plain": [
       "['apple', 'banana', 'cherry', 'o', 'r', 'a', 'n', 'g', 'e']"
      ]
     },
     "execution_count": 45,
     "metadata": {},
     "output_type": "execute_result"
    }
   ],
   "source": [
    "# extend\n",
    "fruits = ['apple', 'banana', 'cherry']\n",
    "a= 'orange'\n",
    "fruits.extend(a)\n",
    "fruits"
   ]
  },
  {
   "cell_type": "code",
   "execution_count": 46,
   "id": "7459aef4",
   "metadata": {},
   "outputs": [
    {
     "data": {
      "text/plain": [
       "['python', 'demo', [6, 0, 4, 1]]"
      ]
     },
     "execution_count": 46,
     "metadata": {},
     "output_type": "execute_result"
    }
   ],
   "source": [
    "# append\n",
    "my_list = ['python', 'demo']\n",
    "another_list = [6, 0, 4, 1]\n",
    "my_list.append(another_list)\n",
    "my_list"
   ]
  },
  {
   "cell_type": "code",
   "execution_count": 47,
   "id": "d82229db",
   "metadata": {},
   "outputs": [
    {
     "data": {
      "text/plain": [
       "['apple', 'banana', 'cherry', 'orange']"
      ]
     },
     "execution_count": 47,
     "metadata": {},
     "output_type": "execute_result"
    }
   ],
   "source": [
    "# append\n",
    "fruits = ['apple', 'banana', 'cherry']\n",
    "a= 'orange'\n",
    "fruits.append(a)\n",
    "fruits"
   ]
  },
  {
   "cell_type": "markdown",
   "id": "629590f8",
   "metadata": {},
   "source": [
    "<div class=\"alert alert-info\">\n",
    "    <h2 style='color:blue;' align='Left' >index() </h2>\n",
    "    \n",
    "List index() method searches for a given element from the start of the list and returns the position of the first occurrence.<br>\n",
    "    \n",
    "**Syntax**  \n",
    "`list.index(element,start,end)`<br>\n",
    "\n",
    "**Parameters**<br>\n",
    "- **element** – The element whose lowest index will be returned.\n",
    "- **start (Optional)** – The position from where the search begins.\n",
    "- **end (Optional)** – The position from where the search ends.\n",
    "    </div>"
   ]
  },
  {
   "cell_type": "code",
   "execution_count": 48,
   "id": "b0eeb259",
   "metadata": {},
   "outputs": [
    {
     "data": {
      "text/plain": [
       "2"
      ]
     },
     "execution_count": 48,
     "metadata": {},
     "output_type": "execute_result"
    }
   ],
   "source": [
    "Animals= [\"cat\", \"dog\", \"tiger\"] \n",
    "Animals.index(\"tiger\")"
   ]
  },
  {
   "cell_type": "code",
   "execution_count": 49,
   "id": "66dc8e14",
   "metadata": {},
   "outputs": [
    {
     "data": {
      "text/plain": [
       "3"
      ]
     },
     "execution_count": 49,
     "metadata": {},
     "output_type": "execute_result"
    }
   ],
   "source": [
    "list1 = [1, 2, 3, 4, 1, 1, 1, 4, 5] \n",
    "list1.index(4)"
   ]
  },
  {
   "cell_type": "code",
   "execution_count": 50,
   "id": "8cb17d64",
   "metadata": {},
   "outputs": [
    {
     "name": "stdout",
     "output_type": "stream",
     "text": [
      "7\n"
     ]
    }
   ],
   "source": [
    "# list of items \n",
    "list1 = [1, 2, 3, 4, 1, 1, 1, 4, 5] \n",
    "   \n",
    "# having index from 4 to 8. \n",
    "print(list1.index(4, 4, -1)) "
   ]
  },
  {
   "cell_type": "code",
   "execution_count": 51,
   "id": "27972642",
   "metadata": {},
   "outputs": [
    {
     "name": "stdout",
     "output_type": "stream",
     "text": [
      "3\n"
     ]
    }
   ],
   "source": [
    "# list of items \n",
    "list1 = [6, 8, 5, 6, 1, 2] \n",
    "   \n",
    "# having index from 1 to end of the list. \n",
    "print(list1.index(6, 1)) "
   ]
  },
  {
   "cell_type": "markdown",
   "id": "8e92802b",
   "metadata": {},
   "source": [
    "<div class=\"alert alert-info\">\n",
    "    <h2 style='color:blue;' align='Left' >insert() </h2>\n",
    "    \n",
    "This function inserts an element at the position mentioned in its arguments. It takes 2 arguments, position and element to be added at respective position.<br>\n",
    "    \n",
    "**Syntax**  \n",
    "`list.insert(index,element)`<br>\n",
    "\n",
    " </div>"
   ]
  },
  {
   "cell_type": "code",
   "execution_count": 52,
   "id": "222302c6",
   "metadata": {},
   "outputs": [
    {
     "data": {
      "text/plain": [
       "['a', 'b', 'c', 'd', 'e', [7, 8], 'f']"
      ]
     },
     "execution_count": 52,
     "metadata": {},
     "output_type": "execute_result"
    }
   ],
   "source": [
    "lis = [\"a\",\"b\",\"c\",\"d\",\"e\",\"f\"] \n",
    "  \n",
    "# using insert() to insert 88 at 3rd index or 4th postion \n",
    "lis.insert(-1, [7,8]) \n",
    "lis"
   ]
  },
  {
   "cell_type": "markdown",
   "id": "9e44a8e7",
   "metadata": {},
   "source": [
    "<div class=\"alert alert-info\">\n",
    "    <h2 style='color:blue;' align='Left' >pop() </h2>\n",
    "    \n",
    "Python list pop() function removes elements at a specific index from the list.<br>\n",
    "    \n",
    "**Syntax**  \n",
    "`list.pop(index)`<br>\n",
    "\n",
    " </div>"
   ]
  },
  {
   "cell_type": "code",
   "execution_count": 53,
   "id": "15234f98",
   "metadata": {},
   "outputs": [
    {
     "name": "stdout",
     "output_type": "stream",
     "text": [
      "cherry\n",
      "['apple', 'mango']\n"
     ]
    }
   ],
   "source": [
    "fruits = [\"apple\", \"mango\", \"cherry\"] \n",
    "print(fruits.pop() )\n",
    "print(fruits)"
   ]
  },
  {
   "cell_type": "code",
   "execution_count": 54,
   "id": "31f6f1f2",
   "metadata": {},
   "outputs": [
    {
     "name": "stdout",
     "output_type": "stream",
     "text": [
      "4\n",
      "[1, 2, 3, 5, 6]\n"
     ]
    }
   ],
   "source": [
    "my_list = [1, 2, 3, 4, 5, 6] \n",
    "# Pops and removes the 3th index \n",
    "# element from the list \n",
    "print(my_list.pop(3))\n",
    "print(my_list)"
   ]
  },
  {
   "cell_type": "code",
   "execution_count": 55,
   "id": "ccf55d1b",
   "metadata": {},
   "outputs": [],
   "source": [
    "my_list = [1, 2, 3, 4, 5, 6] \n"
   ]
  },
  {
   "cell_type": "code",
   "execution_count": 56,
   "id": "7e19e380",
   "metadata": {},
   "outputs": [
    {
     "data": {
      "text/plain": [
       "4"
      ]
     },
     "execution_count": 56,
     "metadata": {},
     "output_type": "execute_result"
    }
   ],
   "source": [
    "my_list.index(5)"
   ]
  },
  {
   "cell_type": "code",
   "execution_count": 57,
   "id": "4fd6c089",
   "metadata": {},
   "outputs": [
    {
     "data": {
      "text/plain": [
       "5"
      ]
     },
     "execution_count": 57,
     "metadata": {},
     "output_type": "execute_result"
    }
   ],
   "source": [
    "my_list.pop(my_list.index(5))"
   ]
  },
  {
   "cell_type": "code",
   "execution_count": 58,
   "id": "872145ee",
   "metadata": {},
   "outputs": [
    {
     "data": {
      "text/plain": [
       "[1, 2, 3, 4, 6]"
      ]
     },
     "execution_count": 58,
     "metadata": {},
     "output_type": "execute_result"
    }
   ],
   "source": [
    "my_list"
   ]
  },
  {
   "cell_type": "markdown",
   "id": "368d47e0",
   "metadata": {},
   "source": [
    "<div class=\"alert alert-info\">\n",
    "    <h2 style='color:blue;' align='Left' >remove() </h2>\n",
    "    \n",
    "The remove() method takes a single element as an argument and removes it from the list.<br>\n",
    "    \n",
    "**Syntax**  \n",
    "`list.remove(element)`<br>\n",
    "\n",
    " </div>"
   ]
  },
  {
   "cell_type": "code",
   "execution_count": 59,
   "id": "b2479bef",
   "metadata": {},
   "outputs": [
    {
     "data": {
      "text/plain": [
       "['cat', 'dog', 'guinea pig']"
      ]
     },
     "execution_count": 59,
     "metadata": {},
     "output_type": "execute_result"
    }
   ],
   "source": [
    "# animals list\n",
    "animals = ['cat', 'dog', 'rabbit', 'guinea pig']\n",
    "\n",
    "# 'rabbit' is removed\n",
    "animals.remove('rabbit')\n",
    "\n",
    "animals"
   ]
  },
  {
   "cell_type": "code",
   "execution_count": 60,
   "id": "5eb104c6",
   "metadata": {},
   "outputs": [
    {
     "data": {
      "text/plain": [
       "['cat', 'dog', 'guinea pig', 'dog']"
      ]
     },
     "execution_count": 60,
     "metadata": {},
     "output_type": "execute_result"
    }
   ],
   "source": [
    "# animals list\n",
    "animals = ['cat', 'dog', 'dog', 'guinea pig', 'dog']\n",
    "\n",
    "# 'dog' is removed\n",
    "animals.remove('dog')\n",
    "\n",
    "animals"
   ]
  },
  {
   "cell_type": "markdown",
   "id": "4ef0b2e1",
   "metadata": {},
   "source": [
    "<div class=\"alert alert-info\">\n",
    "    <h2 style='color:blue;' align='Left' >reverse() </h2>\n",
    "    \n",
    "This function reverses the elements of list.<br>\n",
    "    \n",
    "**Syntax**  \n",
    "`list.reverse()`<br>\n",
    "\n",
    " </div>"
   ]
  },
  {
   "cell_type": "code",
   "execution_count": 61,
   "id": "bc76ea80",
   "metadata": {},
   "outputs": [
    {
     "data": {
      "text/plain": [
       "[8, 7, 6, 5, 4, 3, 2, 1]"
      ]
     },
     "execution_count": 61,
     "metadata": {},
     "output_type": "execute_result"
    }
   ],
   "source": [
    "lis=[1,2,3,4,5,6,7,8]\n",
    "lis.reverse()\n",
    "lis"
   ]
  },
  {
   "cell_type": "markdown",
   "id": "456dd15a",
   "metadata": {},
   "source": [
    "<div class=\"alert alert-info\">\n",
    "    <h2 style='color:blue;' align='Left' >sort() </h2>\n",
    "    \n",
    "This function sorts the list in increasing order.<br>\n",
    "    \n",
    "**Syntax**  \n",
    "`list.sort()`<br>\n",
    "\n",
    " </div>"
   ]
  },
  {
   "cell_type": "code",
   "execution_count": 62,
   "id": "ba111520",
   "metadata": {},
   "outputs": [
    {
     "data": {
      "text/plain": [
       "[1, 2, 3, 3, 5, 8]"
      ]
     },
     "execution_count": 62,
     "metadata": {},
     "output_type": "execute_result"
    }
   ],
   "source": [
    "lis = [2, 1, 3, 5, 3, 8]\n",
    "lis.sort()\n",
    "lis"
   ]
  },
  {
   "cell_type": "code",
   "execution_count": 63,
   "id": "ceb5c339",
   "metadata": {},
   "outputs": [],
   "source": [
    "lis.reverse()"
   ]
  },
  {
   "cell_type": "code",
   "execution_count": 64,
   "id": "c3b54f70",
   "metadata": {},
   "outputs": [
    {
     "data": {
      "text/plain": [
       "[8, 5, 3, 3, 2, 1]"
      ]
     },
     "execution_count": 64,
     "metadata": {},
     "output_type": "execute_result"
    }
   ],
   "source": [
    "lis"
   ]
  },
  {
   "attachments": {
    "image-2.png": {
     "image/png": "[encoded data removed]"
    },
    "image.png": {
     "image/png": "[encoded data removed]"
    }
   },
   "cell_type": "markdown",
   "id": "ecce3230",
   "metadata": {},
   "source": [
    "<div class=\"alert alert-info\">\n",
    "    <h1 style='color:blue;' align='Center' >Python If Else Statements – Conditional Statements </h1>\n",
    "    \n",
    "If-Else statements in Python are part of conditional statements, which decide the control of code. As you can notice from the name If-Else, you can notice the code has two ways of directions.<br>\n",
    "### Types of Control Flow in Python\n",
    "Python control flow statements are as follows:<br>\n",
    "    1. The if statement<br>\n",
    "    2. The if-else statement<br>\n",
    "    3. The nested-if statement<br>\n",
    "    4. The if-elif-else ladder<br>\n",
    "    \n",
    "### Python if statement\n",
    "The if statement is the most simple decision-making statement. It is used to decide whether a certain statement or block of statements will be executed or not.<br>\n",
    "![image.png](attachment:image.png)\n",
    "\n",
    "Here, the condition after evaluation will be either true or false. if the statement accepts boolean values – if the value is true then it will execute the block of statements below it otherwise not.\n",
    "![image-2.png](attachment:image-2.png)\n",
    "\n",
    "\n",
    " </div>"
   ]
  },
  {
   "cell_type": "code",
   "execution_count": 65,
   "id": "f65124d6",
   "metadata": {},
   "outputs": [
    {
     "name": "stdout",
     "output_type": "stream",
     "text": [
      "pass\n"
     ]
    }
   ],
   "source": [
    "percent = 45\n",
    "\n",
    "if percent>=33:\n",
    "    print('pass')"
   ]
  },
  {
   "cell_type": "code",
   "execution_count": 66,
   "id": "429fb69c",
   "metadata": {},
   "outputs": [
    {
     "name": "stdout",
     "output_type": "stream",
     "text": [
      "10 is less than 15\n"
     ]
    }
   ],
   "source": [
    "i = 20\n",
    " \n",
    "if (i > 15):\n",
    "    print(\"10 is less than 15\")"
   ]
  },
  {
   "attachments": {
    "image-3.png": {
     "image/png": "[encoded data removed]"
    },
    "image.png": {
     "image/png": "[encoded data removed]"
    }
   },
   "cell_type": "markdown",
   "id": "b0962811",
   "metadata": {},
   "source": [
    "<div class=\"alert alert-info\">\n",
    "\n",
    "### Python If-Else Statement\n",
    "The if statement alone tells us that if a condition is true it will execute a block of statements and if the condition is false it won’t. But if we want to do something else if the condition is false, we can use the else statement with the if statement to execute a block of code when the if condition is false.<br>\n",
    "![image.png](attachment:image.png)\n",
    "\n",
    "![image-3.png](attachment:image-3.png)\n",
    "</div>"
   ]
  },
  {
   "cell_type": "code",
   "execution_count": 67,
   "id": "bd0f287d",
   "metadata": {},
   "outputs": [
    {
     "name": "stdout",
     "output_type": "stream",
     "text": [
      "fail\n"
     ]
    }
   ],
   "source": [
    "# write code for pass(>=33) and fail(<33)\n",
    "marks=32\n",
    "\n",
    "if marks>=33:\n",
    "    print('pass')\n",
    "else:\n",
    "    print('fail')\n"
   ]
  },
  {
   "attachments": {
    "image-2.png": {
     "image/png": "[encoded data removed]"
    },
    "image.png": {
     "image/png": "[encoded data removed]"
    }
   },
   "cell_type": "markdown",
   "id": "de8c4b1d",
   "metadata": {},
   "source": [
    "<div class=\"alert alert-info\">\n",
    "    \n",
    "### Nested-If Statement in Python\n",
    "A nested if is an if statement that is the target of another if statement. Nested if statements mean an if statement inside another if statement.\n",
    "\n",
    "Yes, Python allows us to nest if statements within if statements. i.e., we can place an if statement inside another if statement.\n",
    "![image.png](attachment:image.png)\n",
    "\n",
    "![image-2.png](attachment:image-2.png)\n",
    "</div>"
   ]
  },
  {
   "cell_type": "code",
   "execution_count": 68,
   "id": "c984d801",
   "metadata": {},
   "outputs": [
    {
     "name": "stdout",
     "output_type": "stream",
     "text": [
      "The number is zero.\n"
     ]
    }
   ],
   "source": [
    "\n",
    "# Example 1 : Number checker\n",
    "num = 0\n",
    "\n",
    "if num > 0:\n",
    "    print(\"The number is positive.\")\n",
    "else:\n",
    "    if num < 0:\n",
    "        print(\"The number is negative.\")\n",
    "    else:\n",
    "        print(\"The number is zero.\")"
   ]
  },
  {
   "cell_type": "code",
   "execution_count": 69,
   "id": "623fe637",
   "metadata": {},
   "outputs": [
    {
     "name": "stdout",
     "output_type": "stream",
     "text": [
      "3rd div\n"
     ]
    }
   ],
   "source": [
    "# 33-60 3rd div\n",
    "# 61-80 2nd div\n",
    "# 81-100 1st div\n",
    "percent= 55\n",
    "\n",
    "if percent>=81:\n",
    "    print('1st div')\n",
    "else:\n",
    "    if percent>=61 and percent<=80:\n",
    "        print('2nd div')\n",
    "    else:\n",
    "        print('3rd div')\n",
    "        "
   ]
  },
  {
   "attachments": {
    "image-3.png": {
     "image/png": "[encoded data removed]"
    },
    "image.png": {
     "image/png": "[encoded data removed]"
    }
   },
   "cell_type": "markdown",
   "id": "0151a02a",
   "metadata": {},
   "source": [
    "<div class=\"alert alert-info\">\n",
    "\n",
    "### Python if-elif-else Ladder\n",
    "Here, a user can decide among multiple options. The if statements are executed from the top down.\n",
    "\n",
    "As soon as one of the conditions controlling the if is true, the statement associated with that if is executed, and the rest of the ladder is bypassed. If none of the conditions is true, then the final “else” statement will be executed.\n",
    "![image.png](attachment:image.png)\n",
    "\n",
    "![image-3.png](attachment:image-3.png)\n",
    "</div>"
   ]
  },
  {
   "cell_type": "code",
   "execution_count": 70,
   "id": "a1bff619",
   "metadata": {},
   "outputs": [
    {
     "name": "stdout",
     "output_type": "stream",
     "text": [
      "3rd div\n"
     ]
    }
   ],
   "source": [
    "# 33-60 3rd div\n",
    "# 61-80 2nd div\n",
    "# 81-100 1st div\n",
    "\n",
    "percent= 37\n",
    "\n",
    "if percent>=81:\n",
    "    print('1st div')\n",
    "elif percent>=61 and percent<=80:\n",
    "    print('2nd div')\n",
    "else:\n",
    "    print('3rd div')"
   ]
  },
  {
   "cell_type": "code",
   "execution_count": 71,
   "id": "3411e7e7",
   "metadata": {},
   "outputs": [
    {
     "name": "stdout",
     "output_type": "stream",
     "text": [
      "fail\n"
     ]
    }
   ],
   "source": [
    "# <=32 fail\n",
    "# 33-60 3rd div\n",
    "# 61-80 2nd div\n",
    "# 81-100 1st div\n",
    "\n",
    "percent= 30\n",
    "\n",
    "if percent>=81:\n",
    "    print('1st div')\n",
    "elif percent>=61 and percent<=80:\n",
    "    print('2nd div')\n",
    "elif 33<=percent<=60:\n",
    "    print('3rd div')    \n",
    "else:\n",
    "    print('fail')\n",
    "    "
   ]
  },
  {
   "attachments": {
    "image.png": {
     "image/png": "[encoded data removed]"
    }
   },
   "cell_type": "markdown",
   "id": "ca047582",
   "metadata": {},
   "source": [
    "<div class=\"alert alert-info\">\n",
    "    \n",
    "## Loops in Python – For, While and Nested Loops\n",
    "\n",
    "### While Loop in Python\n",
    "In Python, a while loop is used to execute a block of statements repeatedly until a given condition is satisfied. When the condition becomes false, the line immediately after the loop in the program is executed.\n",
    "![image.png](attachment:image.png)\n"
   ]
  },
  {
   "cell_type": "code",
   "execution_count": 72,
   "id": "a975e85a",
   "metadata": {},
   "outputs": [
    {
     "name": "stdout",
     "output_type": "stream",
     "text": [
      "hello world\n",
      "hello world\n",
      "hello world\n"
     ]
    }
   ],
   "source": [
    "print(\"hello world\")\n",
    "print(\"hello world\")\n",
    "print(\"hello world\")"
   ]
  },
  {
   "cell_type": "code",
   "execution_count": 73,
   "id": "7a0fd597",
   "metadata": {},
   "outputs": [
    {
     "name": "stdout",
     "output_type": "stream",
     "text": [
      "Hello world\n",
      "Hello world\n",
      "Hello world\n"
     ]
    }
   ],
   "source": [
    "# print \"hello world\" 3 times\n",
    "\n",
    "\n",
    "count = 0\n",
    "while (count < 3):\n",
    "    count = count + 1\n",
    "    print(\"Hello world\")"
   ]
  },
  {
   "cell_type": "code",
   "execution_count": 74,
   "id": "bb9bd442",
   "metadata": {},
   "outputs": [
    {
     "data": {
      "text/plain": [
       "120"
      ]
     },
     "execution_count": 74,
     "metadata": {},
     "output_type": "execute_result"
    }
   ],
   "source": [
    "# find factorial of number \n",
    "\n",
    "count = 0\n",
    "fact=1\n",
    "while count<5:\n",
    "    count = count + 1\n",
    "    fact = fact*count\n",
    "    \n",
    "fact\n",
    "    "
   ]
  },
  {
   "attachments": {
    "image.png": {
     "image/png": "[encoded data removed]"
    }
   },
   "cell_type": "markdown",
   "id": "e5440fb6",
   "metadata": {},
   "source": [
    "<div class=\"alert alert-info\">\n",
    "    \n",
    "### For Loop in Python\n",
    "For loops are used for sequential traversal. For example: traversing a list or string or array etc. In Python, there is “for in” loop which is similar to foreach loop in other languages. Let us learn how to use for loop in Python for sequential traversals with examples.\n",
    "![image.png](attachment:image.png)"
   ]
  },
  {
   "cell_type": "code",
   "execution_count": 75,
   "id": "f4274011",
   "metadata": {},
   "outputs": [
    {
     "data": {
      "text/plain": [
       "range(0, 5)"
      ]
     },
     "execution_count": 75,
     "metadata": {},
     "output_type": "execute_result"
    }
   ],
   "source": [
    "range(0,5)\n",
    "# 0,1,2,3,4,5"
   ]
  },
  {
   "cell_type": "code",
   "execution_count": 76,
   "id": "bf6979a5",
   "metadata": {},
   "outputs": [
    {
     "name": "stdout",
     "output_type": "stream",
     "text": [
      "0\n",
      "1\n",
      "2\n",
      "3\n",
      "4\n"
     ]
    }
   ],
   "source": [
    "# print 0 t0 4 number\n",
    "\n",
    "for i in range(0, 5):\n",
    "    print(i)"
   ]
  },
  {
   "cell_type": "code",
   "execution_count": 77,
   "id": "e9f2248a",
   "metadata": {},
   "outputs": [
    {
     "data": {
      "text/plain": [
       "120"
      ]
     },
     "execution_count": 77,
     "metadata": {},
     "output_type": "execute_result"
    }
   ],
   "source": [
    "fact=1\n",
    "for i in range(1,6):\n",
    "    fact= fact*i\n",
    "fact"
   ]
  },
  {
   "cell_type": "code",
   "execution_count": 78,
   "id": "43f2a469",
   "metadata": {},
   "outputs": [],
   "source": [
    "def factorial(num):\n",
    "    fact=1\n",
    "    for i in range(1,num+1):\n",
    "        fact= fact*i\n",
    "    return fact"
   ]
  },
  {
   "cell_type": "code",
   "execution_count": 79,
   "id": "c2205215",
   "metadata": {},
   "outputs": [
    {
     "name": "stdout",
     "output_type": "stream",
     "text": [
      "5\n"
     ]
    }
   ],
   "source": [
    "a=int(input())"
   ]
  },
  {
   "cell_type": "code",
   "execution_count": 81,
   "id": "c14dfb9e",
   "metadata": {},
   "outputs": [
    {
     "name": "stdout",
     "output_type": "stream",
     "text": [
      "5\n"
     ]
    },
    {
     "data": {
      "text/plain": [
       "120"
      ]
     },
     "execution_count": 81,
     "metadata": {},
     "output_type": "execute_result"
    }
   ],
   "source": [
    "a=int(input())\n",
    "\n",
    "factorial(a)"
   ]
  },
  {
   "cell_type": "code",
   "execution_count": 83,
   "id": "101a00c2",
   "metadata": {},
   "outputs": [
    {
     "name": "stdout",
     "output_type": "stream",
     "text": [
      "all\n",
      "45\n",
      "True\n",
      "99\n"
     ]
    }
   ],
   "source": [
    "# print each element of list \n",
    "lst = ['all', 45, True, 99]\n",
    "for r in lst:\n",
    "    print(r)"
   ]
  },
  {
   "cell_type": "code",
   "execution_count": null,
   "id": "1290a4dd",
   "metadata": {},
   "outputs": [],
   "source": []
  },
  {
   "cell_type": "code",
   "execution_count": 84,
   "id": "14bc32c8",
   "metadata": {},
   "outputs": [
    {
     "name": "stdout",
     "output_type": "stream",
     "text": [
      "all\n",
      "45\n",
      "True\n",
      "99\n"
     ]
    }
   ],
   "source": [
    "lst = ['all', 45, True, 99]\n",
    "for index in range(0,len(lst)):\n",
    "    print(lst[index])"
   ]
  },
  {
   "attachments": {
    "image.png": {
     "image/png": "[encoded data removed]"
    }
   },
   "cell_type": "markdown",
   "id": "b5b654b7",
   "metadata": {},
   "source": [
    "<div class=\"alert alert-info\">\n",
    "    \n",
    "### Nested Loops\n",
    "Python programming language allows to use one loop inside another loop which is called nested loop. Following section shows few examples to illustrate the concept. \n",
    "![image.png](attachment:image.png)"
   ]
  },
  {
   "cell_type": "code",
   "execution_count": 85,
   "id": "1c18cf63",
   "metadata": {},
   "outputs": [
    {
     "data": {
      "text/plain": [
       "range(0, 3)"
      ]
     },
     "execution_count": 85,
     "metadata": {},
     "output_type": "execute_result"
    }
   ],
   "source": [
    "range(3)"
   ]
  },
  {
   "cell_type": "code",
   "execution_count": 86,
   "id": "90cbc433",
   "metadata": {},
   "outputs": [
    {
     "data": {
      "text/plain": [
       "range(1, 5)"
      ]
     },
     "execution_count": 86,
     "metadata": {},
     "output_type": "execute_result"
    }
   ],
   "source": [
    "range(1, 5)"
   ]
  },
  {
   "cell_type": "code",
   "execution_count": 87,
   "id": "664fdfca",
   "metadata": {},
   "outputs": [
    {
     "name": "stdout",
     "output_type": "stream",
     "text": [
      "1 \n",
      "2 2 \n",
      "3 3 3 \n",
      "4 4 4 4 \n"
     ]
    }
   ],
   "source": [
    "for i in range(1, 5):\n",
    "    for j in range(i):\n",
    "        print(i, end=' ')\n",
    "    print()"
   ]
  }
 ],
 "metadata": {
  "kernelspec": {
   "display_name": "Python 3 (ipykernel)",
   "language": "python",
   "name": "python3"
  },
  "language_info": {
   "codemirror_mode": {
    "name": "ipython",
    "version": 3
   },
   "file_extension": ".py",
   "mimetype": "text/x-python",
   "name": "python",
   "nbconvert_exporter": "python",
   "pygments_lexer": "ipython3",
   "version": "3.11.5"
  }
 },
 "nbformat": 4,
 "nbformat_minor": 5
}
